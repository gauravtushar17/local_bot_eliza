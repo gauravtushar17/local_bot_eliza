{
 "cells": [
  {
   "cell_type": "code",
   "execution_count": 3,
   "id": "4cace657",
   "metadata": {},
   "outputs": [],
   "source": [
    "random_responses = [\"That is quite interesting, please tell me more.\",\n",
    "                    \"I see. Do go on.\",\n",
    "                    \"Why do you say that?\",\n",
    "                    \"Funny weather we've been having, isn't it?\",\n",
    "                    \"Let's change the subject.\",\n",
    "                    \"Did you catch the game last night?\"]"
   ]
  },
  {
   "cell_type": "code",
   "execution_count": 2,
   "id": "b724a6e2",
   "metadata": {},
   "outputs": [],
   "source": [
    "import random"
   ]
  },
  {
   "cell_type": "code",
   "execution_count": 4,
   "id": "e5ba2ff3",
   "metadata": {},
   "outputs": [
    {
     "name": "stdout",
     "output_type": "stream",
     "text": [
      "Hello, I am Marvin, the simple robot.\n",
      "You can end this conversation at any time by typing 'bye'\n",
      "After typing each answer, press 'enter'\n",
      "How are you today?\n"
     ]
    }
   ],
   "source": [
    "print(\"Hello, I am Marvin, the simple robot.\")\n",
    "print(\"You can end this conversation at any time by typing 'bye'\")\n",
    "print(\"After typing each answer, press 'enter'\")\n",
    "print(\"How are you today?\")"
   ]
  },
  {
   "cell_type": "code",
   "execution_count": 9,
   "id": "06f47957",
   "metadata": {},
   "outputs": [
    {
     "name": "stdout",
     "output_type": "stream",
     "text": [
      ">hi\n",
      "Why do you say that?\n",
      ">hk\n",
      "Funny weather we've been having, isn't it?\n",
      ">hh\n",
      "Funny weather we've been having, isn't it?\n",
      ">kj\n",
      "Let's change the subject.\n",
      ">jkj\n",
      "Let's change the subject.\n",
      ">kjkjo\n",
      "I see. Do go on.\n",
      ">iepo\n",
      "Why do you say that?\n",
      ">nvxmc,n\n",
      "I see. Do go on.\n",
      ">byg\n",
      "Funny weather we've been having, isn't it?\n",
      ">bYe\n",
      "It was nice talking to you, goodbye!\n"
     ]
    }
   ],
   "source": [
    "while True:\n",
    "    user_input = input(\">\")\n",
    "    if user_input.lower() == 'bye':\n",
    "        break\n",
    "    else:\n",
    "        response = random.choices(random_responses)[0]\n",
    "    print(response)\n",
    "    \n",
    "print(\"It was nice talking to you, goodbye!\")"
   ]
  },
  {
   "cell_type": "code",
   "execution_count": null,
   "id": "c1baf305",
   "metadata": {},
   "outputs": [],
   "source": []
  }
 ],
 "metadata": {
  "kernelspec": {
   "display_name": "Python 3 (ipykernel)",
   "language": "python",
   "name": "python3"
  },
  "language_info": {
   "codemirror_mode": {
    "name": "ipython",
    "version": 3
   },
   "file_extension": ".py",
   "mimetype": "text/x-python",
   "name": "python",
   "nbconvert_exporter": "python",
   "pygments_lexer": "ipython3",
   "version": "3.10.11"
  }
 },
 "nbformat": 4,
 "nbformat_minor": 5
}
